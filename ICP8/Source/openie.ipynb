{
 "cells": [
  {
   "cell_type": "code",
   "execution_count": 32,
   "metadata": {
    "scrolled": true
   },
   "outputs": [
    {
     "name": "stdout",
     "output_type": "stream",
     "text": [
      "The disease causes respiratory illness (like the flu) with symptoms such as a cough, fever, and in more severe cases, difficulty breathing. You can protect yourself by washing your hands frequently, avoiding touching your face, and avoiding close contact (1 meter or 3 feet) with people who are unwell.\n",
      "Coronavirus disease spreads primarily through contact with an infected person when they cough or sneeze. It also spreads when a person touches a surface or object that has the virus on it, then touches their eyes, nose, or mouth.\n",
      "Starting server with command: java -Xmx8G -cp C:\\Users\\Michael\\stanfordnlp_resources\\stanford-corenlp-full-2018-10-05/* edu.stanford.nlp.pipeline.StanfordCoreNLPServer -port 9000 -timeout 60000 -threads 5 -maxCharLength 100000 -quiet True -serverProperties corenlp_server-952cffd8a15542f8.props -preload openie\n",
      "|- {'subject': 'disease', 'relation': 'causes', 'object': 'illness'}\n",
      "|- {'subject': 'disease', 'relation': 'causes', 'object': 'respiratory illness'}\n",
      "|- {'subject': 'symptoms', 'relation': 'is in', 'object': 'more severe cases'}\n",
      "|- {'subject': 'disease', 'relation': 'causes', 'object': 'respiratory illness like flu'}\n",
      "|- {'subject': 'disease', 'relation': 'causes illness with', 'object': 'symptoms in severe cases'}\n",
      "|- {'subject': 'disease', 'relation': 'causes', 'object': 'illness like flu'}\n",
      "|- {'subject': 'disease', 'relation': 'causes illness with', 'object': 'symptoms in more severe cases'}\n",
      "|- {'subject': 'disease', 'relation': 'causes illness with', 'object': 'symptoms'}\n",
      "|- {'subject': 'disease', 'relation': 'causes illness with', 'object': 'symptoms in cases'}\n",
      "|- {'subject': 'your hands', 'relation': 'avoiding contact with', 'object': 'people'}\n",
      "|- {'subject': 'You', 'relation': 'can protect', 'object': 'yourself'}\n",
      "|- {'subject': 'You', 'relation': 'washing', 'object': 'your hands'}\n",
      "|- {'subject': 'your hands', 'relation': 'avoiding', 'object': 'close contact'}\n",
      "|- {'subject': 'your hands', 'relation': 'avoiding', 'object': 'contact'}\n",
      "|- {'subject': 'You', 'relation': 'washing frequently', 'object': 'your hands'}\n",
      "|- {'subject': 'Coronavirus disease', 'relation': 'spreads primarily through', 'object': 'contact with infected person'}\n",
      "|- {'subject': 'Coronavirus disease', 'relation': 'spreads through', 'object': 'contact'}\n",
      "|- {'subject': 'Coronavirus disease', 'relation': 'spreads through', 'object': 'contact with person'}\n",
      "|- {'subject': 'Coronavirus disease', 'relation': 'spreads through', 'object': 'contact with infected person'}\n",
      "|- {'subject': 'Coronavirus disease', 'relation': 'spreads primarily through', 'object': 'contact with person'}\n",
      "|- {'subject': 'contact', 'relation': 'is with', 'object': 'infected person'}\n",
      "|- {'subject': 'Coronavirus disease', 'relation': 'spreads primarily through', 'object': 'contact'}\n",
      "|- {'subject': 'person', 'relation': 'touches', 'object': 'their eyes'}\n",
      "|- {'subject': 'person', 'relation': 'touches', 'object': 'mouth'}\n",
      "|- {'subject': 'person', 'relation': 'touches', 'object': 'surface'}\n",
      "|- {'subject': 'person', 'relation': 'touches', 'object': 'nose'}\n",
      "|- {'subject': 'person', 'relation': 'touches', 'object': 'object'}\n",
      "|- {'subject': 'object', 'relation': 'touches', 'object': 'nose'}\n",
      "|- {'subject': 'object', 'relation': 'touches', 'object': 'mouth'}\n",
      "|- {'subject': 'object', 'relation': 'touches', 'object': 'their eyes'}\n"
     ]
    }
   ],
   "source": [
    "from openie import StanfordOpenIE\n",
    "import json\n",
    "\n",
    "Abstract_1 = open(\"Input1.txt\", \"r\")\n",
    "for ab1 in Abstract_1:\n",
    "    print(ab1)\n",
    "    \n",
    "Abstract_2 = open(\"Input2.txt\", \"r\")\n",
    "for ab2 in Abstract_2:\n",
    "    print(ab2)\n",
    "\n",
    "with StanfordOpenIE() as client:\n",
    "    for Ab1_triple in client.annotate(ab1):\n",
    "        print('|-', Ab1_triple)\n",
    "    for Ab2_triple in client.annotate(ab2):\n",
    "        print('|-', Ab2_triple)\n",
    "\n",
    "with open('output.json', 'w') as json_file:\n",
    "    for triple in client.annotate(ab1):\n",
    "        json.dump(triple, json_file)\n",
    "        json_file.write('\\n')\n",
    "    for triple in client.annotate(ab2):\n",
    "        json.dump(triple, json_file)\n",
    "        json_file.write('\\n')"
   ]
  },
  {
   "cell_type": "code",
   "execution_count": null,
   "metadata": {},
   "outputs": [],
   "source": []
  }
 ],
 "metadata": {
  "kernelspec": {
   "display_name": "Python 3",
   "language": "python",
   "name": "python3"
  },
  "language_info": {
   "codemirror_mode": {
    "name": "ipython",
    "version": 3
   },
   "file_extension": ".py",
   "mimetype": "text/x-python",
   "name": "python",
   "nbconvert_exporter": "python",
   "pygments_lexer": "ipython3",
   "version": "3.6.5"
  }
 },
 "nbformat": 4,
 "nbformat_minor": 2
}
