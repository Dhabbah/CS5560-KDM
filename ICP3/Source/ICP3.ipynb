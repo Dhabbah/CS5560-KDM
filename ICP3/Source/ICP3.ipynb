{
 "cells": [
  {
   "cell_type": "markdown",
   "metadata": {},
   "source": [
    "# CS5560 Knowledge Discovery Management\n",
    "\n",
    "# 1- IE: Triplet Extraction: \n",
    "- Perform triplet extraction on input sentences."
   ]
  },
  {
   "cell_type": "code",
   "execution_count": 1,
   "metadata": {},
   "outputs": [],
   "source": [
    "# installing the libraries\n",
    "import en_core_web_sm\n",
    "import spacy"
   ]
  },
  {
   "cell_type": "code",
   "execution_count": 2,
   "metadata": {},
   "outputs": [
    {
     "name": "stdout",
     "output_type": "stream",
     "text": [
      "Please enter your text: Khalid and Ahmed were born in SA\n"
     ]
    }
   ],
   "source": [
    "T = input(\"Please enter your text: \")"
   ]
  },
  {
   "cell_type": "code",
   "execution_count": 3,
   "metadata": {},
   "outputs": [
    {
     "name": "stdout",
     "output_type": "stream",
     "text": [
      "Khalid nsubjpass\n",
      "and cc\n",
      "Ahmed conj\n",
      "were auxpass\n",
      "born ROOT\n",
      "in prep\n",
      "SA pobj\n"
     ]
    }
   ],
   "source": [
    "# Using Spacy to insert my text and get its attributes to do the Triplet Extraction.\n",
    "nlp = spacy.load(\"en_core_web_sm\")\n",
    "text = nlp(T)\n",
    "for T in text:   \n",
    "        print(T, T.dep_)"
   ]
  },
  {
   "cell_type": "code",
   "execution_count": 4,
   "metadata": {},
   "outputs": [],
   "source": [
    "subjects = []\n",
    "subj = None\n",
    "for word in text:\n",
    "    if 'nsubjpass' in word.dep_:\n",
    "        subj = word\n",
    "        subjects.append(word)\n",
    "    elif word.dep_ == 'conj' and word.head == subj:\n",
    "        subjects.append(word)\n",
    "        \n",
    "VerbRoot = ['ROOT', 'auxpass']\n",
    "OBJ = ['dobj', 'pobj', 'dobj']\n",
    "verbs = [word for word in text if (word.dep_ in VerbRoot)]\n",
    "objects = [word for word in text if (word.dep_ in OBJ)]"
   ]
  },
  {
   "cell_type": "code",
   "execution_count": 5,
   "metadata": {},
   "outputs": [
    {
     "name": "stdout",
     "output_type": "stream",
     "text": [
      "|- {'subject':[Khalid, Ahmed], 'relation':were , 'object':SA}\n",
      "|- {'subject':[Khalid, Ahmed], 'relation':born , 'object':SA}\n"
     ]
    }
   ],
   "source": [
    "for i in range(len(verbs)):\n",
    "    print('|- {\\'subject\\':' + str(subjects) + ', \\'relation\\':' + str(verbs[i]), ', \\'object\\':' + str(objects[0]) + '}')"
   ]
  },
  {
   "cell_type": "markdown",
   "metadata": {},
   "source": [
    "# 2- WordNet Task:\n",
    "## Perform following lexical relations:\n",
    "1. Hyponym (a more specific concept)\n",
    "2. Hypernym (a more general concept)\n",
    "3. Meronym (denotes a part of something)\n",
    "4. Holonym (denotes a membership to something)\n",
    "5. Entailment (denotes how verbs are involved)"
   ]
  },
  {
   "cell_type": "code",
   "execution_count": 6,
   "metadata": {},
   "outputs": [],
   "source": [
    "# importing the library\n",
    "from nltk.corpus import wordnet"
   ]
  },
  {
   "cell_type": "markdown",
   "metadata": {},
   "source": [
    "### 1. Hyponym (a more specific concept)"
   ]
  },
  {
   "cell_type": "code",
   "execution_count": 7,
   "metadata": {},
   "outputs": [
    {
     "name": "stdout",
     "output_type": "stream",
     "text": [
      "Synset('rice.n.01') [Synset('brown_rice.n.01'), Synset('paddy.n.03'), Synset('white_rice.n.01')]\n",
      "Synset('rice.n.02') [Synset('cultivated_rice.n.01')]\n",
      "Synset('rice.n.03') []\n",
      "Synset('rice.n.04') []\n",
      "Synset('rice.v.01') []\n"
     ]
    }
   ],
   "source": [
    "for List in wordnet.synsets('rice'):\n",
    "    print (List, List.hyponyms())"
   ]
  },
  {
   "cell_type": "code",
   "execution_count": 8,
   "metadata": {},
   "outputs": [
    {
     "data": {
      "text/plain": [
       "[Synset('brown_rice.n.01'), Synset('paddy.n.03'), Synset('white_rice.n.01')]"
      ]
     },
     "execution_count": 8,
     "metadata": {},
     "output_type": "execute_result"
    }
   ],
   "source": [
    "wordnet.synset('rice.n.01').hyponyms() "
   ]
  },
  {
   "cell_type": "markdown",
   "metadata": {},
   "source": [
    "### 2. Hypernym (a more general concept)"
   ]
  },
  {
   "cell_type": "code",
   "execution_count": 9,
   "metadata": {},
   "outputs": [
    {
     "name": "stdout",
     "output_type": "stream",
     "text": [
      "Synset('rice.n.01') [Synset('grain.n.02'), Synset('starches.n.01')]\n",
      "Synset('rice.n.02') [Synset('cereal.n.01')]\n",
      "Synset('rice.n.03') []\n",
      "Synset('rice.n.04') []\n",
      "Synset('rice.v.01') [Synset('sift.v.02')]\n"
     ]
    }
   ],
   "source": [
    "for List in wordnet.synsets('rice'):\n",
    "    print (List, List.hypernyms())"
   ]
  },
  {
   "cell_type": "code",
   "execution_count": 10,
   "metadata": {},
   "outputs": [
    {
     "data": {
      "text/plain": [
       "[Synset('grain.n.02'), Synset('starches.n.01')]"
      ]
     },
     "execution_count": 10,
     "metadata": {},
     "output_type": "execute_result"
    }
   ],
   "source": [
    "wordnet.synset('rice.n.01').hypernyms() "
   ]
  },
  {
   "cell_type": "markdown",
   "metadata": {},
   "source": [
    "# Meronyms and Holonyms\n",
    "Meronyms and Holonyms represent the part-whole relationship. The meronym represents the part and the holonym represents the whole. For example, ‘kitchen’ is a meronym of ‘home'(the kitchen is a part of the home), ‘bread’ is a meronym of ‘sandwich’, and ‘sandwich’ is a holonym of ‘bread’."
   ]
  },
  {
   "cell_type": "markdown",
   "metadata": {},
   "source": [
    "### 3. Meronym (denotes a part of something)"
   ]
  },
  {
   "cell_type": "code",
   "execution_count": 11,
   "metadata": {},
   "outputs": [
    {
     "name": "stdout",
     "output_type": "stream",
     "text": [
      "Synset('room.n.01') [Synset('ceiling.n.01'), Synset('floor.n.01'), Synset('room_light.n.01'), Synset('wall.n.01')]\n",
      "Synset('room.n.02') []\n",
      "Synset('room.n.03') []\n",
      "Synset('room.n.04') []\n",
      "Synset('board.v.02') []\n"
     ]
    }
   ],
   "source": [
    "for List in wordnet.synsets('room'):\n",
    "    print (List, List.part_meronyms())"
   ]
  },
  {
   "cell_type": "code",
   "execution_count": 12,
   "metadata": {},
   "outputs": [
    {
     "data": {
      "text/plain": [
       "[Synset('ceiling.n.01'),\n",
       " Synset('floor.n.01'),\n",
       " Synset('room_light.n.01'),\n",
       " Synset('wall.n.01')]"
      ]
     },
     "execution_count": 12,
     "metadata": {},
     "output_type": "execute_result"
    }
   ],
   "source": [
    "wordnet.synset('room.n.01').part_meronyms() "
   ]
  },
  {
   "cell_type": "markdown",
   "metadata": {},
   "source": [
    "### 4. Holonym (denotes a membership to something)"
   ]
  },
  {
   "cell_type": "code",
   "execution_count": 13,
   "metadata": {},
   "outputs": [
    {
     "name": "stdout",
     "output_type": "stream",
     "text": [
      "Synset('room.n.01') [Synset('building.n.01')]\n",
      "Synset('room.n.02') []\n",
      "Synset('room.n.03') []\n",
      "Synset('room.n.04') []\n",
      "Synset('board.v.02') []\n"
     ]
    }
   ],
   "source": [
    "for List in wordnet.synsets('room'):\n",
    "    print (List, List.part_holonyms())"
   ]
  },
  {
   "cell_type": "code",
   "execution_count": 14,
   "metadata": {},
   "outputs": [
    {
     "data": {
      "text/plain": [
       "[Synset('building.n.01')]"
      ]
     },
     "execution_count": 14,
     "metadata": {},
     "output_type": "execute_result"
    }
   ],
   "source": [
    "wordnet.synset('room.n.01').part_holonyms() "
   ]
  },
  {
   "cell_type": "markdown",
   "metadata": {},
   "source": [
    "### 5. Entailment (denotes how verbs are involved)\n",
    "An entailment is an implication. For example, looking implies seeing. Buying implies choosing and paying."
   ]
  },
  {
   "cell_type": "code",
   "execution_count": 15,
   "metadata": {},
   "outputs": [
    {
     "name": "stdout",
     "output_type": "stream",
     "text": [
      "Synset('listen.v.01') [Synset('hear.v.01')]\n",
      "Synset('listen.v.02') []\n",
      "Synset('heed.v.01') []\n"
     ]
    }
   ],
   "source": [
    "for List in wordnet.synsets('listen'):\n",
    "    print (List, List.entailments())"
   ]
  },
  {
   "cell_type": "code",
   "execution_count": 16,
   "metadata": {},
   "outputs": [
    {
     "data": {
      "text/plain": [
       "[Synset('hear.v.01')]"
      ]
     },
     "execution_count": 16,
     "metadata": {},
     "output_type": "execute_result"
    }
   ],
   "source": [
    "wordnet.synset('listen.v.01').entailments() "
   ]
  }
 ],
 "metadata": {
  "kernelspec": {
   "display_name": "Python 3",
   "language": "python",
   "name": "python3"
  },
  "language_info": {
   "codemirror_mode": {
    "name": "ipython",
    "version": 3
   },
   "file_extension": ".py",
   "mimetype": "text/x-python",
   "name": "python",
   "nbconvert_exporter": "python",
   "pygments_lexer": "ipython3",
   "version": "3.6.5"
  }
 },
 "nbformat": 4,
 "nbformat_minor": 2
}
