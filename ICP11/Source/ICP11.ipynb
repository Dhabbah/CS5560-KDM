{
 "cells": [
  {
   "cell_type": "code",
   "execution_count": 1,
   "metadata": {},
   "outputs": [
    {
     "name": "stderr",
     "output_type": "stream",
     "text": [
      "Using TensorFlow backend.\n"
     ]
    }
   ],
   "source": [
    "# Helper libraries\n",
    "import numpy as np\n",
    "import matplotlib.pyplot as plt\n",
    "%matplotlib inline\n",
    "import tensorflow as tf\n",
    "from keras.datasets import mnist, fashion_mnist\n",
    "from keras.models import Sequential\n",
    "from keras.layers import Conv2D, MaxPooling2D, Dense, Flatten, Activation\n",
    "from keras.utils import to_categorical"
   ]
  },
  {
   "cell_type": "code",
   "execution_count": 2,
   "metadata": {},
   "outputs": [],
   "source": [
    "\n",
    "(train_images, train_labels), (test_images, test_labels) = fashion_mnist.load_data()\n",
    "\n",
    "\n",
    "# Split dataset into images and labels\n",
    "train_images, train_labels = train_images, train_labels\n",
    "test_images, test_labels = test_images, test_labels\n",
    "# Class names (needed only for illustration purposes)\n",
    "class_names = ['T-shirt/top', 'Trouser', 'Pullover', 'Dress',\n",
    "                   'Coat', 'Sandal', 'Shirt', 'Sneaker', 'Bag', 'Ankle boot']"
   ]
  },
  {
   "cell_type": "code",
   "execution_count": 3,
   "metadata": {},
   "outputs": [
    {
     "name": "stdout",
     "output_type": "stream",
     "text": [
      "Training Data: (60000, 28, 28), Labels Shape: (60000,)\n",
      "Testing Data (10000, 28, 28), Labels Shape: (10000,)\n"
     ]
    }
   ],
   "source": [
    "    # Display information about the dataset\n",
    "print(\"Training Data: {}, Labels Shape: {}\".format(train_images.shape, train_labels.shape))\n",
    "print(\"Testing Data {}, Labels Shape: {}\".format(test_images.shape, test_labels.shape))"
   ]
  },
  {
   "cell_type": "code",
   "execution_count": 4,
   "metadata": {},
   "outputs": [
    {
     "name": "stdout",
     "output_type": "stream",
     "text": [
      "Random 5 Images from the Training Data:\n"
     ]
    },
    {
     "data": {
      "image/png": "[encoded data removed]",
      "text/plain": [
       "<Figure size 720x720 with 1 Axes>"
      ]
     },
     "metadata": {},
     "output_type": "display_data"
    },
    {
     "data": {
      "image/png": "[encoded data removed]",
      "text/plain": [
       "<Figure size 432x288 with 1 Axes>"
      ]
     },
     "metadata": {},
     "output_type": "display_data"
    },
    {
     "data": {
      "image/png": "[encoded data removed]",
      "text/plain": [
       "<Figure size 432x288 with 1 Axes>"
      ]
     },
     "metadata": {},
     "output_type": "display_data"
    },
    {
     "data": {
      "image/png": "[encoded data removed]",
      "text/plain": [
       "<Figure size 432x288 with 1 Axes>"
      ]
     },
     "metadata": {},
     "output_type": "display_data"
    },
    {
     "data": {
      "image/png": "[encoded data removed]",
      "text/plain": [
       "<Figure size 432x288 with 1 Axes>"
      ]
     },
     "metadata": {},
     "output_type": "display_data"
    }
   ],
   "source": [
    "print(\"Random 5 Images from the Training Data:\")\n",
    "plt.figure(figsize=(10, 10))\n",
    "for i in range(5):\n",
    "    plt.subplot(5, 5, i+1)\n",
    "    plt.xticks([])\n",
    "    plt.yticks([])\n",
    "    plt.imshow(train_images[i], cmap=plt.cm.binary)\n",
    "    plt.xlabel(class_names[train_labels[i]])\n",
    "    plt.show()"
   ]
  },
  {
   "cell_type": "code",
   "execution_count": 5,
   "metadata": {},
   "outputs": [
    {
     "name": "stdout",
     "output_type": "stream",
     "text": [
      "WARNING:tensorflow:From C:\\Users\\Michael\\AppData\\Roaming\\Python\\Python36\\site-packages\\tensorflow\\python\\framework\\op_def_library.py:263: colocate_with (from tensorflow.python.framework.ops) is deprecated and will be removed in a future version.\n",
      "Instructions for updating:\n",
      "Colocations handled automatically by placer.\n"
     ]
    }
   ],
   "source": [
    "# Normalize the images.\n",
    "train_images = (train_images / 255) - 0.5\n",
    "test_images = (test_images / 255) - 0.5\n",
    "\n",
    "# Reshape the images.\n",
    "train_images = np.expand_dims(train_images, axis=3)\n",
    "test_images = np.expand_dims(test_images, axis=3)\n",
    "\n",
    "num_filters = 8\n",
    "filter_size = 3\n",
    "pool_size = 2\n",
    "\n",
    "\n",
    "# Build the model.\n",
    "model = Sequential([\n",
    "    Conv2D(num_filters, filter_size, input_shape=(28, 28, 1)),\n",
    "    Activation('relu'),\n",
    "    MaxPooling2D(pool_size=pool_size),\n",
    "    \n",
    "    Conv2D(num_filters, filter_size),\n",
    "    Activation('relu'),\n",
    "    MaxPooling2D(pool_size=pool_size),\n",
    "    Flatten(),\n",
    "    \n",
    "    Dense(10, activation='softmax'),\n",
    "])\n",
    "\n",
    "# Compile the model.\n",
    "model.compile(\n",
    "  'adam',\n",
    "  loss='categorical_crossentropy',\n",
    "  metrics=['accuracy'],\n",
    ")"
   ]
  },
  {
   "cell_type": "code",
   "execution_count": 6,
   "metadata": {},
   "outputs": [
    {
     "name": "stdout",
     "output_type": "stream",
     "text": [
      "WARNING:tensorflow:From C:\\Users\\Michael\\AppData\\Roaming\\Python\\Python36\\site-packages\\tensorflow\\python\\ops\\math_ops.py:3066: to_int32 (from tensorflow.python.ops.math_ops) is deprecated and will be removed in a future version.\n",
      "Instructions for updating:\n",
      "Use tf.cast instead.\n",
      "Train on 60000 samples, validate on 10000 samples\n",
      "Epoch 1/50\n",
      "60000/60000 [==============================] - 17s 289us/step - loss: 0.7123 - acc: 0.7468 - val_loss: 0.5376 - val_acc: 0.8009\n",
      "Epoch 2/50\n",
      "60000/60000 [==============================] - 16s 271us/step - loss: 0.4754 - acc: 0.8279 - val_loss: 0.4707 - val_acc: 0.8311\n",
      "Epoch 3/50\n",
      "60000/60000 [==============================] - 16s 274us/step - loss: 0.4307 - acc: 0.8467 - val_loss: 0.4426 - val_acc: 0.8413\n",
      "Epoch 4/50\n",
      "60000/60000 [==============================] - 16s 270us/step - loss: 0.4052 - acc: 0.8559 - val_loss: 0.4131 - val_acc: 0.8560\n",
      "Epoch 5/50\n",
      "60000/60000 [==============================] - 16s 269us/step - loss: 0.3860 - acc: 0.8628 - val_loss: 0.4073 - val_acc: 0.8541\n",
      "Epoch 6/50\n",
      "60000/60000 [==============================] - 16s 270us/step - loss: 0.3744 - acc: 0.8675 - val_loss: 0.3959 - val_acc: 0.8578\n",
      "Epoch 7/50\n",
      "60000/60000 [==============================] - 17s 277us/step - loss: 0.3631 - acc: 0.8712 - val_loss: 0.3838 - val_acc: 0.8633\n",
      "Epoch 8/50\n",
      "60000/60000 [==============================] - 18s 297us/step - loss: 0.3560 - acc: 0.8739 - val_loss: 0.3836 - val_acc: 0.8643\n",
      "Epoch 9/50\n",
      "60000/60000 [==============================] - 17s 288us/step - loss: 0.3479 - acc: 0.8770 - val_loss: 0.3708 - val_acc: 0.8702\n",
      "Epoch 10/50\n",
      "60000/60000 [==============================] - 18s 293us/step - loss: 0.3426 - acc: 0.8780 - val_loss: 0.3664 - val_acc: 0.8720\n",
      "Epoch 11/50\n",
      "60000/60000 [==============================] - 18s 298us/step - loss: 0.3378 - acc: 0.8792 - val_loss: 0.3588 - val_acc: 0.8719\n",
      "Epoch 12/50\n",
      "60000/60000 [==============================] - 18s 295us/step - loss: 0.3333 - acc: 0.8817 - val_loss: 0.3696 - val_acc: 0.8729\n",
      "Epoch 13/50\n",
      "60000/60000 [==============================] - 18s 295us/step - loss: 0.3294 - acc: 0.8826 - val_loss: 0.3578 - val_acc: 0.8750\n",
      "Epoch 14/50\n",
      "60000/60000 [==============================] - 19s 309us/step - loss: 0.3253 - acc: 0.8833 - val_loss: 0.3494 - val_acc: 0.8782\n",
      "Epoch 15/50\n",
      "60000/60000 [==============================] - 16s 274us/step - loss: 0.3224 - acc: 0.8855 - val_loss: 0.3513 - val_acc: 0.8759\n",
      "Epoch 16/50\n",
      "60000/60000 [==============================] - 16s 272us/step - loss: 0.3202 - acc: 0.8849 - val_loss: 0.3538 - val_acc: 0.8749\n",
      "Epoch 17/50\n",
      "60000/60000 [==============================] - 17s 284us/step - loss: 0.3170 - acc: 0.8867 - val_loss: 0.3535 - val_acc: 0.8775\n",
      "Epoch 18/50\n",
      "60000/60000 [==============================] - 17s 281us/step - loss: 0.3153 - acc: 0.8873 - val_loss: 0.3481 - val_acc: 0.8768\n",
      "Epoch 19/50\n",
      "60000/60000 [==============================] - 17s 277us/step - loss: 0.3123 - acc: 0.8878 - val_loss: 0.3473 - val_acc: 0.8757\n",
      "Epoch 20/50\n",
      "60000/60000 [==============================] - 18s 294us/step - loss: 0.3108 - acc: 0.8882 - val_loss: 0.3397 - val_acc: 0.8801\n",
      "Epoch 21/50\n",
      "60000/60000 [==============================] - 17s 278us/step - loss: 0.3083 - acc: 0.8904 - val_loss: 0.3397 - val_acc: 0.8817\n",
      "Epoch 22/50\n",
      "60000/60000 [==============================] - 16s 274us/step - loss: 0.3059 - acc: 0.8902 - val_loss: 0.3422 - val_acc: 0.8798\n",
      "Epoch 23/50\n",
      "60000/60000 [==============================] - 16s 275us/step - loss: 0.3045 - acc: 0.8911 - val_loss: 0.3363 - val_acc: 0.8828\n",
      "Epoch 24/50\n",
      "60000/60000 [==============================] - 17s 283us/step - loss: 0.3029 - acc: 0.8905 - val_loss: 0.3480 - val_acc: 0.8772\n",
      "Epoch 25/50\n",
      "60000/60000 [==============================] - 17s 281us/step - loss: 0.3017 - acc: 0.8920 - val_loss: 0.3411 - val_acc: 0.8797\n",
      "Epoch 26/50\n",
      "60000/60000 [==============================] - 17s 279us/step - loss: 0.2998 - acc: 0.8923 - val_loss: 0.3432 - val_acc: 0.8803\n",
      "Epoch 27/50\n",
      "60000/60000 [==============================] - 17s 277us/step - loss: 0.2995 - acc: 0.8922 - val_loss: 0.3358 - val_acc: 0.8831\n",
      "Epoch 28/50\n",
      "60000/60000 [==============================] - 18s 301us/step - loss: 0.2970 - acc: 0.8939 - val_loss: 0.3399 - val_acc: 0.8805\n",
      "Epoch 29/50\n",
      "60000/60000 [==============================] - 17s 280us/step - loss: 0.2954 - acc: 0.8939 - val_loss: 0.3348 - val_acc: 0.8816\n",
      "Epoch 30/50\n",
      "60000/60000 [==============================] - 17s 278us/step - loss: 0.2935 - acc: 0.8942 - val_loss: 0.3385 - val_acc: 0.8817\n",
      "Epoch 31/50\n",
      "60000/60000 [==============================] - 17s 289us/step - loss: 0.2932 - acc: 0.8937 - val_loss: 0.3333 - val_acc: 0.8849\n",
      "Epoch 32/50\n",
      "60000/60000 [==============================] - 17s 282us/step - loss: 0.2910 - acc: 0.8961 - val_loss: 0.3416 - val_acc: 0.8801\n",
      "Epoch 33/50\n",
      "60000/60000 [==============================] - 17s 285us/step - loss: 0.2903 - acc: 0.8956 - val_loss: 0.3341 - val_acc: 0.8848\n",
      "Epoch 34/50\n",
      "60000/60000 [==============================] - 18s 292us/step - loss: 0.2896 - acc: 0.8956 - val_loss: 0.3346 - val_acc: 0.8818\n",
      "Epoch 35/50\n",
      "60000/60000 [==============================] - 19s 314us/step - loss: 0.2883 - acc: 0.8964 - val_loss: 0.3438 - val_acc: 0.8828\n",
      "Epoch 36/50\n",
      "60000/60000 [==============================] - 18s 296us/step - loss: 0.2869 - acc: 0.8965 - val_loss: 0.3285 - val_acc: 0.8830\n",
      "Epoch 37/50\n",
      "60000/60000 [==============================] - 18s 293us/step - loss: 0.2858 - acc: 0.8962 - val_loss: 0.3313 - val_acc: 0.8837\n",
      "Epoch 38/50\n",
      "60000/60000 [==============================] - 18s 307us/step - loss: 0.2849 - acc: 0.8966 - val_loss: 0.3345 - val_acc: 0.8838\n",
      "Epoch 39/50\n",
      "60000/60000 [==============================] - 18s 304us/step - loss: 0.2842 - acc: 0.8977 - val_loss: 0.3354 - val_acc: 0.8850\n",
      "Epoch 40/50\n",
      "60000/60000 [==============================] - 18s 295us/step - loss: 0.2829 - acc: 0.8980 - val_loss: 0.3336 - val_acc: 0.8826\n",
      "Epoch 41/50\n",
      "60000/60000 [==============================] - 18s 295us/step - loss: 0.2827 - acc: 0.8978 - val_loss: 0.3422 - val_acc: 0.8797\n",
      "Epoch 42/50\n",
      "60000/60000 [==============================] - 20s 328us/step - loss: 0.2805 - acc: 0.8990 - val_loss: 0.3314 - val_acc: 0.8836\n",
      "Epoch 43/50\n",
      "60000/60000 [==============================] - 18s 308us/step - loss: 0.2802 - acc: 0.8989 - val_loss: 0.3235 - val_acc: 0.8863\n",
      "Epoch 44/50\n",
      "60000/60000 [==============================] - 18s 297us/step - loss: 0.2794 - acc: 0.8992 - val_loss: 0.3322 - val_acc: 0.8823\n",
      "Epoch 45/50\n",
      "60000/60000 [==============================] - 19s 311us/step - loss: 0.2799 - acc: 0.8997 - val_loss: 0.3219 - val_acc: 0.8867\n",
      "Epoch 46/50\n",
      "60000/60000 [==============================] - 18s 299us/step - loss: 0.2784 - acc: 0.8998 - val_loss: 0.3289 - val_acc: 0.8852\n",
      "Epoch 47/50\n",
      "60000/60000 [==============================] - 18s 298us/step - loss: 0.2783 - acc: 0.8990 - val_loss: 0.3282 - val_acc: 0.8842\n",
      "Epoch 48/50\n",
      "60000/60000 [==============================] - 18s 306us/step - loss: 0.2770 - acc: 0.9000 - val_loss: 0.3274 - val_acc: 0.8871\n",
      "Epoch 49/50\n",
      "60000/60000 [==============================] - 18s 302us/step - loss: 0.2760 - acc: 0.8998 - val_loss: 0.3297 - val_acc: 0.8835\n",
      "Epoch 50/50\n",
      "60000/60000 [==============================] - 18s 299us/step - loss: 0.2761 - acc: 0.9008 - val_loss: 0.3227 - val_acc: 0.8875\n"
     ]
    }
   ],
   "source": [
    "# Train the model.\n",
    "h = model.fit(\n",
    "  train_images,\n",
    "  to_categorical(train_labels),\n",
    "  epochs=50, batch_size=64,\n",
    "  validation_data=(test_images, to_categorical(test_labels)),\n",
    ")"
   ]
  },
  {
   "cell_type": "code",
   "execution_count": 7,
   "metadata": {},
   "outputs": [
    {
     "name": "stdout",
     "output_type": "stream",
     "text": [
      "_________________________________________________________________\n",
      "Layer (type)                 Output Shape              Param #   \n",
      "=================================================================\n",
      "conv2d_1 (Conv2D)            (None, 26, 26, 8)         80        \n",
      "_________________________________________________________________\n",
      "activation_1 (Activation)    (None, 26, 26, 8)         0         \n",
      "_________________________________________________________________\n",
      "max_pooling2d_1 (MaxPooling2 (None, 13, 13, 8)         0         \n",
      "_________________________________________________________________\n",
      "conv2d_2 (Conv2D)            (None, 11, 11, 8)         584       \n",
      "_________________________________________________________________\n",
      "activation_2 (Activation)    (None, 11, 11, 8)         0         \n",
      "_________________________________________________________________\n",
      "max_pooling2d_2 (MaxPooling2 (None, 5, 5, 8)           0         \n",
      "_________________________________________________________________\n",
      "flatten_1 (Flatten)          (None, 200)               0         \n",
      "_________________________________________________________________\n",
      "dense_1 (Dense)              (None, 10)                2010      \n",
      "=================================================================\n",
      "Total params: 2,674\n",
      "Trainable params: 2,674\n",
      "Non-trainable params: 0\n",
      "_________________________________________________________________\n",
      "None\n"
     ]
    }
   ],
   "source": [
    "# printing the summary\n",
    "print(model.summary())"
   ]
  },
  {
   "cell_type": "code",
   "execution_count": 8,
   "metadata": {},
   "outputs": [
    {
     "data": {
      "image/png": "[encoded data removed]",
      "text/plain": [
       "<Figure size 432x288 with 1 Axes>"
      ]
     },
     "metadata": {
      "needs_background": "light"
     },
     "output_type": "display_data"
    }
   ],
   "source": [
    "# plot the acc and val_acc\n",
    "plt.plot(h.history['acc'])\n",
    "plt.plot(h.history['val_acc'])\n",
    "plt.title('model loss')\n",
    "plt.ylabel('loss')\n",
    "plt.xlabel('epoch')\n",
    "plt.legend(['acc', 'val_acc'], loc='upper left')\n",
    "plt.show()"
   ]
  },
  {
   "cell_type": "code",
   "execution_count": 9,
   "metadata": {},
   "outputs": [
    {
     "data": {
      "image/png": "[encoded data removed]",
      "text/plain": [
       "<Figure size 432x288 with 1 Axes>"
      ]
     },
     "metadata": {
      "needs_background": "light"
     },
     "output_type": "display_data"
    }
   ],
   "source": [
    "# plot the loss and val_loss\n",
    "plt.plot(h.history['loss'])\n",
    "plt.plot(h.history['val_loss'])\n",
    "plt.title('model loss')\n",
    "plt.ylabel('loss')\n",
    "plt.xlabel('epoch')\n",
    "plt.legend(['loss', 'val_loss'], loc='upper left')\n",
    "plt.show()"
   ]
  },
  {
   "cell_type": "code",
   "execution_count": 14,
   "metadata": {},
   "outputs": [],
   "source": [
    "# Predict on the first 5 test images.\n",
    "predictions = model.predict(test_images[:5])"
   ]
  },
  {
   "cell_type": "code",
   "execution_count": 15,
   "metadata": {},
   "outputs": [
    {
     "name": "stdout",
     "output_type": "stream",
     "text": [
      "These are the model predictions :\n",
      "[9 2 1 1 6]\n",
      "\n",
      "\n",
      "These are the corresponding labels :\n",
      "[9 2 1 1 6]\n"
     ]
    }
   ],
   "source": [
    "\n",
    "# Print our model's predictions.\n",
    "print(\"These are the model predictions :\")\n",
    "print(np.argmax(predictions, axis=1)) # [7, 2, 1, 0, 4]\n",
    "print(\"\\n\")\n",
    "\n",
    "# Check our predictions against the ground truths.\n",
    "print(\"These are the corresponding labels :\")\n",
    "print(test_labels[:5]) # [7, 2, 1, 0, 4]\n"
   ]
  },
  {
   "cell_type": "code",
   "execution_count": null,
   "metadata": {},
   "outputs": [],
   "source": []
  }
 ],
 "metadata": {
  "kernelspec": {
   "display_name": "Python 3",
   "language": "python",
   "name": "python3"
  },
  "language_info": {
   "codemirror_mode": {
    "name": "ipython",
    "version": 3
   },
   "file_extension": ".py",
   "mimetype": "text/x-python",
   "name": "python",
   "nbconvert_exporter": "python",
   "pygments_lexer": "ipython3",
   "version": "3.6.5"
  }
 },
 "nbformat": 4,
 "nbformat_minor": 2
}
