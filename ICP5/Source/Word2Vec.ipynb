{
 "cells": [
  {
   "cell_type": "code",
   "execution_count": 1,
   "metadata": {},
   "outputs": [
    {
     "name": "stdout",
     "output_type": "stream",
     "text": [
      "[Row(word='for', vector=DenseVector([0.0044, 0.1008, 0.0123, 0.0764])), Row(word='people', vector=DenseVector([-0.0066, 0.019, -0.0973, 0.0253])), Row(word='children', vector=DenseVector([-0.0841, 0.0885, 0.0041, 0.0381])), Row(word='in', vector=DenseVector([0.025, 0.0678, -0.095, -0.1144])), Row(word='elder', vector=DenseVector([0.1114, 0.0151, 0.0549, -0.0717])), Row(word='running', vector=DenseVector([0.0248, 0.0476, -0.0214, 0.0673])), Row(word='a', vector=DenseVector([0.0641, -0.0304, 0.0045, 0.0495])), Row(word='man', vector=DenseVector([0.0563, 0.0945, 0.0202, 0.0848])), Row(word='out', vector=DenseVector([-0.114, 0.0928, 0.0815, -0.0752])), Row(word='around', vector=DenseVector([-0.0234, -0.0116, -0.0664, -0.0031])), Row(word='park.', vector=DenseVector([-0.0683, 0.047, 0.1143, -0.0736])), Row(word='fire.', vector=DenseVector([-0.1018, -0.083, 0.0399, -0.0006])), Row(word='picnic', vector=DenseVector([0.115, -0.1084, 0.0245, 0.0747])), Row(word='were', vector=DenseVector([0.0978, -0.1237, 0.1104, 0.0841])), Row(word='family', vector=DenseVector([-0.0792, 0.0987, 0.1208, 0.0968])), Row(word='sat', vector=DenseVector([-0.1084, 0.0082, -0.1107, -0.1227])), Row(word='walk.', vector=DenseVector([-0.0032, -0.0977, -0.0895, -0.0792])), Row(word='went', vector=DenseVector([0.0464, -0.115, -0.1229, -0.039])), Row(word='the', vector=DenseVector([-0.0329, -0.1171, 0.0388, 0.0847]))]\n",
      "+--------+--------------------+\n",
      "|    word|          similarity|\n",
      "+--------+--------------------+\n",
      "|  around|  0.7197820544242859|\n",
      "|      in|  0.6848893165588379|\n",
      "|   walk.|  0.6275877952575684|\n",
      "|  people| 0.42105114459991455|\n",
      "|     out|  0.3656645119190216|\n",
      "|    went| 0.35065752267837524|\n",
      "|   fire.|  0.2215684950351715|\n",
      "|children| 0.18612509965896606|\n",
      "|   park.| 0.13254156708717346|\n",
      "|   elder|-0.32401493191719055|\n",
      "+--------+--------------------+\n",
      "\n"
     ]
    }
   ],
   "source": [
    "from pyspark.sql import SparkSession\n",
    "from pyspark.ml.feature import Word2Vec\n",
    "from pyspark import SparkContext\n",
    "\n",
    "# creating spark session\n",
    "spark = SparkSession.builder.getOrCreate()\n",
    "\n",
    "# we load the documents.\n",
    "documents =  spark.createDataFrame([\n",
    "    (\"the man went out for a walk.\".split(\" \"), ),\n",
    "    (\"the children sat around the fire.\".split(\" \"), ),\n",
    "    (\"the family went for a picnic in the park.\".split(\" \"), ),\n",
    "    (\"the children were running in the park.\".split(\" \"), ),\n",
    "    (\"the elder people sat around the fire.\".split(\" \"), )\n",
    "], [\"text\"])\n",
    "# Using word2Vec and set the vector size to 4.\n",
    "word2Vec = Word2Vec(minCount=0, inputCol=\"text\").setVectorSize(4)\n",
    "model = word2Vec.fit(documents)\n",
    "print(model.getVectors().collect())\n",
    "\n",
    "# Finding the synonyms using the model we created from word2Vec\n",
    "synonyms = model.findSynonyms(\"sat\", 10)\n",
    "synonyms.show()\n",
    "\n",
    "#closing the spark session\n",
    "spark.stop()"
   ]
  },
  {
   "cell_type": "code",
   "execution_count": null,
   "metadata": {},
   "outputs": [],
   "source": []
  }
 ],
 "metadata": {
  "kernelspec": {
   "display_name": "Python 3",
   "language": "python",
   "name": "python3"
  },
  "language_info": {
   "codemirror_mode": {
    "name": "ipython",
    "version": 3
   },
   "file_extension": ".py",
   "mimetype": "text/x-python",
   "name": "python",
   "nbconvert_exporter": "python",
   "pygments_lexer": "ipython3",
   "version": "3.6.5"
  }
 },
 "nbformat": 4,
 "nbformat_minor": 2
}
